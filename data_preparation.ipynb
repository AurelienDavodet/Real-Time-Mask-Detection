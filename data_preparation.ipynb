{
 "cells": [
  {
   "cell_type": "markdown",
   "metadata": {},
   "source": [
    "# YOLOv5 fine-tuning for mask detection"
   ]
  },
  {
   "cell_type": "code",
   "execution_count": null,
   "metadata": {},
   "outputs": [],
   "source": [
    "import os\n",
    "import xml.etree.ElementTree as ET\n",
    "from sklearn.model_selection import train_test_split\n",
    "from glob import glob"
   ]
  },
  {
   "cell_type": "code",
   "execution_count": null,
   "metadata": {},
   "outputs": [],
   "source": [
    "images_path = 'data/images'\n",
    "annotations_path = 'data/annotations'\n",
    "yolo_annotations_path = 'data/'\n",
    "train_images_path = os.path.join(yolo_annotations_path, 'train/images')\n",
    "train_labels_path = os.path.join(yolo_annotations_path, 'train/labels')\n",
    "val_images_path = os.path.join(yolo_annotations_path, 'val/images')\n",
    "val_labels_path = os.path.join(yolo_annotations_path, 'val/labels')\n",
    "\n",
    "# Create output directories\n",
    "os.makedirs(train_images_path, exist_ok=True)\n",
    "os.makedirs(train_labels_path, exist_ok=True)\n",
    "os.makedirs(val_images_path, exist_ok=True)\n",
    "os.makedirs(val_labels_path, exist_ok=True)"
   ]
  },
  {
   "cell_type": "code",
   "execution_count": null,
   "metadata": {},
   "outputs": [],
   "source": [
    "class_mapping = {'without_mask': 0, 'with_mask': 1}"
   ]
  },
  {
   "cell_type": "code",
   "execution_count": null,
   "metadata": {},
   "outputs": [],
   "source": [
    "def convert_to_yolo(size, box):\n",
    "    dw = 1.0 / size[0]\n",
    "    dh = 1.0 / size[1]\n",
    "    x_center = (box[0] + box[1]) / 2.0 - 1\n",
    "    y_center = (box[2] + box[3]) / 2.0 - 1\n",
    "    w = box[1] - box[0]\n",
    "    h = box[3] - box[2]\n",
    "    return [x_center * dw, y_center * dh, w * dw, h * dh]"
   ]
  },
  {
   "cell_type": "code",
   "execution_count": null,
   "metadata": {},
   "outputs": [],
   "source": [
    "xml_files = glob(os.path.join(annotations_path, '*.xml'))\n",
    "image_files = glob(os.path.join(images_path, '*.png'))\n",
    "image_files = sorted(image_files)"
   ]
  },
  {
   "cell_type": "code",
   "execution_count": null,
   "metadata": {},
   "outputs": [],
   "source": [
    "train_files, val_files = train_test_split(image_files, test_size=0.2, random_state=42)"
   ]
  },
  {
   "cell_type": "code",
   "execution_count": null,
   "metadata": {},
   "outputs": [
    {
     "name": "stdout",
     "output_type": "stream",
     "text": [
      "Conversion to YOLO format and dataset split completed.\n"
     ]
    }
   ],
   "source": [
    "for xml_file in xml_files:\n",
    "    tree = ET.parse(xml_file)\n",
    "    root = tree.getroot()\n",
    "    image_filename = root.find('filename').text\n",
    "    width = int(root.find('size/width').text)\n",
    "    height = int(root.find('size/height').text)\n",
    "    img_path = os.path.join(images_path, image_filename)\n",
    "    \n",
    "    yolo_filename = os.path.splitext(image_filename)[0] + '.txt'\n",
    "    yolo_data = []\n",
    "    \n",
    "    for obj in root.iter('object'):\n",
    "        class_name = obj.find('name').text\n",
    "        if class_name not in class_mapping:\n",
    "            continue\n",
    "        class_id = class_mapping[class_name]\n",
    "        \n",
    "        bndbox = obj.find('bndbox')\n",
    "        xmin = int(bndbox.find('xmin').text)\n",
    "        ymin = int(bndbox.find('ymin').text)\n",
    "        xmax = int(bndbox.find('xmax').text)\n",
    "        ymax = int(bndbox.find('ymax').text)\n",
    "        \n",
    "        bbox = convert_to_yolo((width, height), (xmin, xmax, ymin, ymax))\n",
    "        yolo_data.append(f\"{class_id} {' '.join(map(str, bbox))}\")\n",
    "    \n",
    "    if img_path in train_files:\n",
    "        # Write YOLO annotation\n",
    "        with open(os.path.join(train_labels_path, yolo_filename), 'w') as f:\n",
    "            f.write('\\n'.join(yolo_data))\n",
    "\n",
    "        os.system(f\"cp '{img_path}' '{train_images_path}'\")\n",
    "    else:\n",
    "        # Write YOLO annotation\n",
    "        with open(os.path.join(val_labels_path, yolo_filename), 'w') as f:\n",
    "            f.write('\\n'.join(yolo_data))\n",
    "        # Copy image\n",
    "        os.system(f\"cp '{img_path}' '{val_images_path}'\")\n",
    "\n",
    "print(\"Conversion to YOLO format and dataset split completed.\")"
   ]
  }
 ],
 "metadata": {
  "accelerator": "GPU",
  "colab": {
   "machine_shape": "hm",
   "name": "finmask.ipynb",
   "provenance": []
  },
  "kernelspec": {
   "display_name": "mask_env",
   "language": "python",
   "name": "python3"
  },
  "language_info": {
   "codemirror_mode": {
    "name": "ipython",
    "version": 3
   },
   "file_extension": ".py",
   "mimetype": "text/x-python",
   "name": "python",
   "nbconvert_exporter": "python",
   "pygments_lexer": "ipython3",
   "version": "3.12.6"
  }
 },
 "nbformat": 4,
 "nbformat_minor": 4
}
